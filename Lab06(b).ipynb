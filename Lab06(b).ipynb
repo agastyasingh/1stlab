{
 "cells": [
  {
   "cell_type": "code",
   "execution_count": 3,
   "metadata": {},
   "outputs": [
    {
     "name": "stdout",
     "output_type": "stream",
     "text": [
      "{'football', 'ball', 'bat'}\n"
     ]
    }
   ],
   "source": [
    "##Q1.\n",
    "set_1={\"bat\",\"football\",\"ball\"}\n",
    "print(set_1)"
   ]
  },
  {
   "cell_type": "code",
   "execution_count": 5,
   "metadata": {},
   "outputs": [
    {
     "name": "stdout",
     "output_type": "stream",
     "text": [
      "{'football', 'ball', 'honey', 'bat'}\n"
     ]
    }
   ],
   "source": [
    "##Q2.\n",
    "set_1.add(\"honey\")\n",
    "print(set_1)"
   ]
  },
  {
   "cell_type": "code",
   "execution_count": 14,
   "metadata": {},
   "outputs": [
    {
     "name": "stdout",
     "output_type": "stream",
     "text": [
      "{'ball', 'l', 'f', 'b', 'futbol', 'o', 'r', 'e', 'w', 'bat'}\n"
     ]
    }
   ],
   "source": [
    "##Q3.\n",
    "set_1={\"futbol\",\"bat\",\"ball\"}\n",
    "set_1.update(\"bee\")\n",
    "set_1.update(\"flower\")\n",
    "print(set_1)"
   ]
  },
  {
   "cell_type": "code",
   "execution_count": 9,
   "metadata": {},
   "outputs": [
    {
     "name": "stdout",
     "output_type": "stream",
     "text": [
      "5\n"
     ]
    }
   ],
   "source": [
    "##Q4.\n",
    "print(len(set_1))"
   ]
  },
  {
   "cell_type": "code",
   "execution_count": 11,
   "metadata": {},
   "outputs": [
    {
     "name": "stdout",
     "output_type": "stream",
     "text": [
      "{'ball', 'flower', 'bee', 'futbol'}\n"
     ]
    }
   ],
   "source": [
    "##Q5.\n",
    "set_1.remove(\"bat\")\n",
    "print(set_1)"
   ]
  },
  {
   "cell_type": "code",
   "execution_count": 12,
   "metadata": {},
   "outputs": [
    {
     "name": "stdout",
     "output_type": "stream",
     "text": [
      "ball\n",
      "{'flower', 'bee', 'futbol'}\n"
     ]
    }
   ],
   "source": [
    "##Q6.\n",
    "x=set_1.pop()\n",
    "print(x)\n",
    "print(set_1)"
   ]
  },
  {
   "cell_type": "code",
   "execution_count": 15,
   "metadata": {},
   "outputs": [
    {
     "name": "stdout",
     "output_type": "stream",
     "text": [
      "{'ball', 'flower', 'bee', 'futbol', 'bat'}\n"
     ]
    }
   ],
   "source": [
    "##Q7.\n",
    "set_1={\"futbol\",\"bat\",\"ball\"}\n",
    "set_2={\"bee\",\"flower\"}\n",
    "set_1.update(set_2)\n",
    "print(set_1)\n"
   ]
  },
  {
   "cell_type": "code",
   "execution_count": 16,
   "metadata": {},
   "outputs": [
    {
     "name": "stdout",
     "output_type": "stream",
     "text": [
      "{'bee', 'bat'}\n"
     ]
    }
   ],
   "source": [
    "##Q8.\n",
    "set_3={\"bee\",\"bat\"}\n",
    "set_4=set_1.intersection(set_3)\n",
    "print(set_4)"
   ]
  },
  {
   "cell_type": "code",
   "execution_count": 25,
   "metadata": {},
   "outputs": [
    {
     "name": "stdout",
     "output_type": "stream",
     "text": [
      "{'ball', 'flower', 'bee', 'nisan', 'arigato', 'futbol', 'bat'}\n"
     ]
    }
   ],
   "source": [
    "##Q9.\n",
    "set_3={\"nisan\",\"arigato\"}\n",
    "set_4=set_1.union(set_3)\n",
    "set_6=set_4\n",
    "print(set_4)"
   ]
  },
  {
   "cell_type": "code",
   "execution_count": 19,
   "metadata": {},
   "outputs": [
    {
     "name": "stdout",
     "output_type": "stream",
     "text": [
      "set()\n"
     ]
    }
   ],
   "source": [
    "##Q10.\n",
    "set_4.clear()\n",
    "print(set_4)"
   ]
  },
  {
   "cell_type": "code",
   "execution_count": 21,
   "metadata": {},
   "outputs": [
    {
     "name": "stdout",
     "output_type": "stream",
     "text": [
      "False\n",
      "True\n"
     ]
    }
   ],
   "source": [
    "##Q11.\n",
    "set_2={\"shoes\"}\n",
    "set_3={\"ball\"}\n",
    "x=set_1.issubset(set_2)\n",
    "y=set_1.issuperset(set_3)\n",
    "print(x)\n",
    "print(y)"
   ]
  },
  {
   "cell_type": "code",
   "execution_count": 26,
   "metadata": {},
   "outputs": [
    {
     "name": "stdout",
     "output_type": "stream",
     "text": [
      "{'nisan', 'arigato'}\n"
     ]
    }
   ],
   "source": [
    "##Q12.\n",
    "set_5=set_6.difference(set_1)\n",
    "print(set_5)"
   ]
  },
  {
   "cell_type": "code",
   "execution_count": 27,
   "metadata": {},
   "outputs": [
    {
     "name": "stdout",
     "output_type": "stream",
     "text": [
      "{'nisan', 'arigato'}\n"
     ]
    }
   ],
   "source": [
    "##Q13.\n",
    "set_7=set_6.symmetric_difference(set_1)\n",
    "print(set_7)"
   ]
  },
  {
   "cell_type": "code",
   "execution_count": null,
   "metadata": {},
   "outputs": [],
   "source": []
  }
 ],
 "metadata": {
  "kernelspec": {
   "display_name": "Python 3",
   "language": "python",
   "name": "python3"
  },
  "language_info": {
   "codemirror_mode": {
    "name": "ipython",
    "version": 3
   },
   "file_extension": ".py",
   "mimetype": "text/x-python",
   "name": "python",
   "nbconvert_exporter": "python",
   "pygments_lexer": "ipython3",
   "version": "3.8.5"
  }
 },
 "nbformat": 4,
 "nbformat_minor": 4
}
