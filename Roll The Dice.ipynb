{
 "cells": [
  {
   "cell_type": "code",
   "execution_count": null,
   "metadata": {},
   "outputs": [
    {
     "name": "stdout",
     "output_type": "stream",
     "text": [
      "Rolling the dice...\n",
      "The values are....\n",
      "1\n",
      "1\n",
      "Roll the dices again?y\n",
      "Rolling the dice...\n",
      "The values are....\n",
      "2\n",
      "3\n"
     ]
    }
   ],
   "source": [
    "##This is a 'Roll the Dice' game.\n",
    "\n",
    "import random\n",
    "min = 1\n",
    "max = 6\n",
    "\n",
    "roll = \"yes\"\n",
    "\n",
    "while roll == \"yes\" or roll == \"y\":\n",
    "    print (\"Rolling the dice...\")\n",
    "    print (\"The values are....\")\n",
    "    print (random.randint(min, max))\n",
    "    print (random.randint(min, max))\n",
    "\n",
    "    roll = input(\"Roll the dices again?\")"
   ]
  },
  {
   "cell_type": "code",
   "execution_count": null,
   "metadata": {},
   "outputs": [],
   "source": []
  }
 ],
 "metadata": {
  "kernelspec": {
   "display_name": "Python 3",
   "language": "python",
   "name": "python3"
  },
  "language_info": {
   "codemirror_mode": {
    "name": "ipython",
    "version": 3
   },
   "file_extension": ".py",
   "mimetype": "text/x-python",
   "name": "python",
   "nbconvert_exporter": "python",
   "pygments_lexer": "ipython3",
   "version": "3.8.5"
  }
 },
 "nbformat": 4,
 "nbformat_minor": 4
}
