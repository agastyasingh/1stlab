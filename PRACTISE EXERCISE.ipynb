{
 "cells": [
  {
   "cell_type": "markdown",
   "metadata": {},
   "source": [
    "   ## Practise exercise\n",
    "   \n",
    "    # What is Python ?\n",
    "    # It is a programming language of software development, cell development, scripting and mathematical operations.\n",
    "    \n",
    "    # Give any 5 areas where python can be used.\n",
    "    # Web development, Data science, Machne Learning, Network programming, Games and 3D graphics.\n",
    "    \n",
    "    # Comment ques 1 & 2 with their respective questions.\n",
    "     ## What is Python ?\n",
    "     ## Give any 5 areas where python can be used."
   ]
  },
  {
   "cell_type": "code",
   "execution_count": 3,
   "metadata": {},
   "outputs": [
    {
     "name": "stdout",
     "output_type": "stream",
     "text": [
      "10 is greater than 2\n"
     ]
    }
   ],
   "source": [
    "# create a program to check whether 10 is greater than 2 or not.\n",
    "if (10>2):\n",
    "    print (\"10 is greater than 2\")\n",
    "else: (\"10 is not greater than 2\")\n"
   ]
  },
  {
   "cell_type": "code",
   "execution_count": 7,
   "metadata": {},
   "outputs": [
    {
     "name": "stdout",
     "output_type": "stream",
     "text": [
      "10\n",
      "hELLO\n",
      "True\n"
     ]
    }
   ],
   "source": [
    "# print 3 variables x.y,z having int, string, boolean.\n",
    "x = 10\n",
    "print (x)\n",
    "y = \"hELLO\"\n",
    "print (y)\n",
    "z = True\n",
    "print (z)"
   ]
  },
  {
   "cell_type": "code",
   "execution_count": 13,
   "metadata": {},
   "outputs": [
    {
     "name": "stdout",
     "output_type": "stream",
     "text": [
      "5 5.0 leo\n"
     ]
    }
   ],
   "source": [
    "# print 3 variables x.y,z using assignment having multiple values.\n",
    "x, y, z = \"5\", \"5.0\", \"leo\"\n",
    "print (x, y , z)\n"
   ]
  },
  {
   "cell_type": "code",
   "execution_count": 17,
   "metadata": {},
   "outputs": [
    {
     "name": "stdout",
     "output_type": "stream",
     "text": [
      "<class 'int'>\n",
      "<class 'str'>\n",
      "<class 'bool'>\n"
     ]
    }
   ],
   "source": [
    "# Print the data type of variables defined in ques4.\n",
    "x = 10\n",
    "y = \"me\"\n",
    "z = True\n",
    "print (type(x))\n",
    "print (type(y))\n",
    "print (type(z))"
   ]
  },
  {
   "cell_type": "code",
   "execution_count": 18,
   "metadata": {},
   "outputs": [
    {
     "name": "stdout",
     "output_type": "stream",
     "text": [
      "10 mac True\n"
     ]
    }
   ],
   "source": [
    "# Print the variables fulfiling the criteria.\n",
    "_gh = 10\n",
    "g_h = \"mac\"\n",
    "g4h_ = True\n",
    "print(_gh, g_h, g4h_)"
   ]
  },
  {
   "cell_type": "code",
   "execution_count": 19,
   "metadata": {},
   "outputs": [
    {
     "name": "stdout",
     "output_type": "stream",
     "text": [
      "Hello Earth\n"
     ]
    }
   ],
   "source": [
    "# WAP to print multiple values.\n",
    "print (\"Hello\"+\" \"+\"Earth\")"
   ]
  },
  {
   "cell_type": "code",
   "execution_count": 23,
   "metadata": {},
   "outputs": [
    {
     "name": "stdout",
     "output_type": "stream",
     "text": [
      "<class 'str'>\n",
      "<class 'int'>\n",
      "<class 'float'>\n",
      "<class 'list'>\n",
      "<class 'tuple'>\n",
      "<class 'range'>\n",
      "<class 'dict'>\n",
      "<class 'bool'>\n"
     ]
    }
   ],
   "source": [
    "# Print the data types for \n",
    "a = \"hello\"\n",
    "b = 20\n",
    "c = 10.5\n",
    "d = [\"x\",\"y\",\"z\"]\n",
    "e = (\"x\",\"y\",\"z\")\n",
    "f = range(b)\n",
    "g = {1:\"Apple\", 2:\"Mango\"}\n",
    "h = True\n",
    "print (type(a))\n",
    "print (type(b))\n",
    "print (type(c))\n",
    "print (type(d))\n",
    "print (type(e))\n",
    "print (type(f))\n",
    "print (type(g))\n",
    "print (type(h))"
   ]
  },
  {
   "cell_type": "code",
   "execution_count": 45,
   "metadata": {},
   "outputs": [
    {
     "name": "stdout",
     "output_type": "stream",
     "text": [
      "loG\n",
      "ell\n"
     ]
    }
   ],
   "source": [
    "# Print 3rd, 4th, 5th character from the first and print 3rd, 4th, 5th character from the last.\n",
    "x=\"helloG\"\n",
    "print(x[3: ])\n",
    "print(x[-5:-2])"
   ]
  },
  {
   "cell_type": "code",
   "execution_count": null,
   "metadata": {},
   "outputs": [],
   "source": []
  }
 ],
 "metadata": {
  "kernelspec": {
   "display_name": "Python 3",
   "language": "python",
   "name": "python3"
  },
  "language_info": {
   "codemirror_mode": {
    "name": "ipython",
    "version": 3
   },
   "file_extension": ".py",
   "mimetype": "text/x-python",
   "name": "python",
   "nbconvert_exporter": "python",
   "pygments_lexer": "ipython3",
   "version": "3.7.3"
  }
 },
 "nbformat": 4,
 "nbformat_minor": 2
}
