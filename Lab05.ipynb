{
 "cells": [
  {
   "cell_type": "code",
   "execution_count": 14,
   "metadata": {},
   "outputs": [
    {
     "name": "stdout",
     "output_type": "stream",
     "text": [
      "17\n"
     ]
    }
   ],
   "source": [
    "## Q1 \n",
    "l1=[2,7,8]\n",
    "sum=0\n",
    "for i in l1:\n",
    "    sum = sum + i\n",
    "print(sum)"
   ]
  },
  {
   "cell_type": "code",
   "execution_count": 15,
   "metadata": {},
   "outputs": [
    {
     "name": "stdout",
     "output_type": "stream",
     "text": [
      "864\n"
     ]
    }
   ],
   "source": [
    "## Q2\n",
    "li=[2,6,9,8]\n",
    "product=1\n",
    "for i in li:\n",
    "    product=product*i\n",
    "    \n",
    "print(product)"
   ]
  },
  {
   "cell_type": "code",
   "execution_count": 19,
   "metadata": {},
   "outputs": [
    {
     "name": "stdout",
     "output_type": "stream",
     "text": [
      "9\n"
     ]
    }
   ],
   "source": [
    "## Q3\n",
    "i=0\n",
    "for i in li:\n",
    "    if (i)>(i+1):\n",
    "        largest=i\n",
    "    else:\n",
    "        largest=(i+1)\n",
    "print(largest)        "
   ]
  },
  {
   "cell_type": "code",
   "execution_count": 23,
   "metadata": {},
   "outputs": [
    {
     "name": "stdout",
     "output_type": "stream",
     "text": [
      "1\n"
     ]
    }
   ],
   "source": [
    "## Q4\n",
    "i=0\n",
    "smallest=0\n",
    "li=[1,2,3,4,5]\n",
    "print(min(li))       "
   ]
  },
  {
   "cell_type": "code",
   "execution_count": 30,
   "metadata": {},
   "outputs": [
    {
     "name": "stdout",
     "output_type": "stream",
     "text": [
      "2\n"
     ]
    }
   ],
   "source": [
    "## Q5(a)\n",
    "count=0\n",
    "li=[\"abc\",\"cf\",\"ghi\"]\n",
    "for i in li:\n",
    "    if len(i)>2:\n",
    "        count=count+1\n",
    "print(count)\n",
    "    "
   ]
  },
  {
   "cell_type": "code",
   "execution_count": 31,
   "metadata": {},
   "outputs": [
    {
     "name": "stdout",
     "output_type": "stream",
     "text": [
      "[4, 3, 2, 1]\n"
     ]
    }
   ],
   "source": [
    "## Q6\n",
    "Tuple = (1,2,3,4)\n",
    "l2 = list(Tuple)\n",
    "l2.sort(reverse=True)\n",
    "print(l2)"
   ]
  },
  {
   "cell_type": "code",
   "execution_count": 32,
   "metadata": {},
   "outputs": [
    {
     "name": "stdout",
     "output_type": "stream",
     "text": [
      "['y', 'z', 'x']\n"
     ]
    }
   ],
   "source": [
    "## Q7\n",
    "l1 = ['x','y','z','x','x']\n",
    "l1.remove('x')\n",
    "l1.remove('x')\n",
    "print(l1)"
   ]
  },
  {
   "cell_type": "code",
   "execution_count": 33,
   "metadata": {},
   "outputs": [
    {
     "name": "stdout",
     "output_type": "stream",
     "text": [
      "List is empty\n"
     ]
    }
   ],
   "source": [
    "## Q8\n",
    "l = []\n",
    "if not l:\n",
    "    print(\"List is empty\")"
   ]
  },
  {
   "cell_type": "code",
   "execution_count": 34,
   "metadata": {},
   "outputs": [
    {
     "name": "stdout",
     "output_type": "stream",
     "text": [
      "[1, 2, 3, 4, 5]\n",
      "[1, 2, 3, 4, 5]\n"
     ]
    }
   ],
   "source": [
    "## Q9\n",
    "List = [1,2,3,4,5]\n",
    "NewList = list(List)\n",
    "print(List)\n",
    "print(NewList)"
   ]
  },
  {
   "cell_type": "code",
   "execution_count": 35,
   "metadata": {},
   "outputs": [
    {
     "name": "stdout",
     "output_type": "stream",
     "text": [
      "Enter strings =abc\n",
      "enter value of n:3\n",
      "list of words :  []\n"
     ]
    }
   ],
   "source": [
    "## Q10\n",
    "str = input(\"Enter strings =\")\n",
    "a = str.split(\" \")\n",
    "b = []\n",
    "n = int(input(\"enter value of n:\"))\n",
    "for i in a:\n",
    "    if (len(i)> n) :\n",
    "        b.append(i)\n",
    "print(\"list of words : \",b)"
   ]
  },
  {
   "cell_type": "code",
   "execution_count": null,
   "metadata": {},
   "outputs": [],
   "source": []
  }
 ],
 "metadata": {
  "kernelspec": {
   "display_name": "Python 3",
   "language": "python",
   "name": "python3"
  },
  "language_info": {
   "codemirror_mode": {
    "name": "ipython",
    "version": 3
   },
   "file_extension": ".py",
   "mimetype": "text/x-python",
   "name": "python",
   "nbconvert_exporter": "python",
   "pygments_lexer": "ipython3",
   "version": "3.8.5"
  }
 },
 "nbformat": 4,
 "nbformat_minor": 4
}
