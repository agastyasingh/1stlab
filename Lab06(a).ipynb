{
 "cells": [
  {
   "cell_type": "code",
   "execution_count": 5,
   "metadata": {},
   "outputs": [
    {
     "name": "stdout",
     "output_type": "stream",
     "text": [
      "{}\n"
     ]
    }
   ],
   "source": [
    "##Q1.\n",
    "empty_dict = {}\n",
    "print(empty_dict)\n"
   ]
  },
  {
   "cell_type": "code",
   "execution_count": 7,
   "metadata": {},
   "outputs": [
    {
     "name": "stdout",
     "output_type": "stream",
     "text": [
      "{'A': '10', 'B': '20'}\n"
     ]
    }
   ],
   "source": [
    "##Q2.\n",
    "dict = {\"A\":\"10\",\n",
    "        \"B\":\"20\"\n",
    "       }\n",
    "print(dict)\n"
   ]
  },
  {
   "cell_type": "code",
   "execution_count": 9,
   "metadata": {},
   "outputs": [
    {
     "name": "stdout",
     "output_type": "stream",
     "text": [
      "{1: 'abc', 2: 70, 3: [1, 2, 3], 4: 60.14}\n"
     ]
    }
   ],
   "source": [
    "##Q3.\n",
    "dict = {1:'abc', 2:70, 3:[1,2,3] ,4:60.14}\n",
    "print(dict)"
   ]
  },
  {
   "cell_type": "code",
   "execution_count": 12,
   "metadata": {},
   "outputs": [
    {
     "name": "stdout",
     "output_type": "stream",
     "text": [
      "{1: 'abc', 3: [1, 2, 3], 4: 60.14}\n"
     ]
    }
   ],
   "source": [
    "##Q5\n",
    "dict = {1:'abc', 2:14, 3:[1,2,3] ,4:60.14}\n",
    "\n",
    "dict.pop(2)\n",
    "print(dict)"
   ]
  },
  {
   "cell_type": "code",
   "execution_count": 13,
   "metadata": {},
   "outputs": [
    {
     "name": "stdout",
     "output_type": "stream",
     "text": [
      "{}\n"
     ]
    }
   ],
   "source": [
    "##Q6.\n",
    "dict = {1:'abc', 2:12, 3:[1,2,3] ,4:12.21}\n",
    "\n",
    "dict.clear()\n",
    "print(dict)"
   ]
  },
  {
   "cell_type": "code",
   "execution_count": 14,
   "metadata": {},
   "outputs": [
    {
     "name": "stdout",
     "output_type": "stream",
     "text": [
      "[1, 2, 3]\n"
     ]
    }
   ],
   "source": [
    "##Q7.\n",
    "dict = {1:'abc', 2:12, 3:[1,2,3] ,4:12.21}\n",
    "\n",
    "print(dict[3])"
   ]
  },
  {
   "cell_type": "code",
   "execution_count": 15,
   "metadata": {},
   "outputs": [
    {
     "name": "stdout",
     "output_type": "stream",
     "text": [
      "Key Not Present.\n"
     ]
    }
   ],
   "source": [
    "##Q8.\n",
    "dict = {1:'abc', 2:14, 3:[1,2,3] ,4:60.14}\n",
    "\n",
    "key_to_look_up = 5\n",
    "\n",
    "if dict.get(key_to_look_up,-1) == -1:\n",
    "    print(\"Key Not Present.\")\n",
    "else:\n",
    "    print(\"Key Present.\")"
   ]
  },
  {
   "cell_type": "code",
   "execution_count": 16,
   "metadata": {},
   "outputs": [
    {
     "name": "stdout",
     "output_type": "stream",
     "text": [
      "{1: 'abc', 2: 14, 3: [1, 2, 3], 4: 15.1666}\n"
     ]
    }
   ],
   "source": [
    "##Q9. \n",
    "dict = {1:'abc', 2:14, 3:[1,2,3] ,4:60.14}\n",
    "\n",
    "dict[4] = 15.1666\n",
    "\n",
    "print(dict)"
   ]
  },
  {
   "cell_type": "code",
   "execution_count": 17,
   "metadata": {},
   "outputs": [
    {
     "name": "stdout",
     "output_type": "stream",
     "text": [
      "{1: 'abc', 2: 14, 3: [1, 2, 3], 4: 14.6, 5: 'New Pair'}\n"
     ]
    }
   ],
   "source": [
    "##Q10.\n",
    "dict = {1:'abc', 2:14, 3:[1,2,3] ,4:14.60}\n",
    "\n",
    "dict[5] = \"New Pair\"\n",
    "\n",
    "print(dict)"
   ]
  },
  {
   "cell_type": "code",
   "execution_count": 18,
   "metadata": {},
   "outputs": [
    {
     "name": "stdout",
     "output_type": "stream",
     "text": [
      "{2: 2, 20: 400}\n"
     ]
    }
   ],
   "source": [
    "##Q11.\n",
    "dict = {2:2, 20:400}\n",
    "\n",
    "print(dict)"
   ]
  },
  {
   "cell_type": "code",
   "execution_count": 19,
   "metadata": {},
   "outputs": [
    {
     "name": "stdout",
     "output_type": "stream",
     "text": [
      "{1: 14.5, 2: {'A': 'Boy', 'B': 'Male'}, 5: 14}\n"
     ]
    }
   ],
   "source": [
    "##Q12. \n",
    "nest_dict = {1:14.5, 2:{'A':\"Boy\",'B':\"Male\"}, 5:14}\n",
    "\n",
    "print(nest_dict)"
   ]
  },
  {
   "cell_type": "code",
   "execution_count": 20,
   "metadata": {},
   "outputs": [
    {
     "name": "stdout",
     "output_type": "stream",
     "text": [
      "{1: 10, 2: 20, 3: 30, 4: 40, 5: 50, 6: 60}\n"
     ]
    }
   ],
   "source": [
    "##Q13.\n",
    "d1 = {1:10, 2:20}\n",
    "d2 = {3:30, 4:40}\n",
    "d3 = {5:50, 6:60}\n",
    "\n",
    "d4 = d1\n",
    "\n",
    "for d in (d2, d3):\n",
    "    d4.update(d)\n",
    "\n",
    "print(d4)"
   ]
  },
  {
   "cell_type": "code",
   "execution_count": 21,
   "metadata": {},
   "outputs": [
    {
     "name": "stdout",
     "output_type": "stream",
     "text": [
      "28\n"
     ]
    }
   ],
   "source": [
    "##Q14.\n",
    "dict = {1:10,2:12,3:6}\n",
    "\n",
    "sum = 0\n",
    "for i in dict:\n",
    "    sum += dict[i]\n",
    "    \n",
    "print(sum)"
   ]
  },
  {
   "cell_type": "code",
   "execution_count": 22,
   "metadata": {},
   "outputs": [
    {
     "name": "stdout",
     "output_type": "stream",
     "text": [
      "{1: 1, 2: 4, 3: 9, 4: 16, 5: 25, 6: 36, 7: 49, 8: 64, 9: 81, 10: 100, 11: 121, 12: 144, 13: 169, 14: 196, 15: 225}\n"
     ]
    }
   ],
   "source": [
    "##Q16.\n",
    "dict = {}\n",
    "for i in range(1,16):\n",
    "    dict[i] = i * i\n",
    "print(dict)"
   ]
  },
  {
   "cell_type": "code",
   "execution_count": 23,
   "metadata": {},
   "outputs": [
    {
     "name": "stdout",
     "output_type": "stream",
     "text": [
      "{1: 1, 2: 2, 3: 6, 4: 24, 5: 120, 6: 720, 7: 5040, 8: 40320, 9: 362880, 10: 3628800, 11: 39916800, 12: 479001600, 13: 6227020800, 14: 87178291200, 15: 1307674368000}\n"
     ]
    }
   ],
   "source": [
    "##Q17.\n",
    "dict = {}\n",
    "for i in range(1,16):\n",
    "    fact = 1\n",
    "    for j in range(i,1,-1):\n",
    "        fact = fact * j\n",
    "    dict[i] = fact\n",
    "print(dict)"
   ]
  },
  {
   "cell_type": "code",
   "execution_count": null,
   "metadata": {},
   "outputs": [],
   "source": []
  }
 ],
 "metadata": {
  "kernelspec": {
   "display_name": "Python 3",
   "language": "python",
   "name": "python3"
  },
  "language_info": {
   "codemirror_mode": {
    "name": "ipython",
    "version": 3
   },
   "file_extension": ".py",
   "mimetype": "text/x-python",
   "name": "python",
   "nbconvert_exporter": "python",
   "pygments_lexer": "ipython3",
   "version": "3.8.5"
  }
 },
 "nbformat": 4,
 "nbformat_minor": 4
}
